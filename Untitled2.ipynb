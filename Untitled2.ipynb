{
  "nbformat": 4,
  "nbformat_minor": 0,
  "metadata": {
    "colab": {
      "provenance": []
    },
    "kernelspec": {
      "name": "python3",
      "display_name": "Python 3"
    },
    "language_info": {
      "name": "python"
    }
  },
  "cells": [
    {
      "cell_type": "code",
      "execution_count": null,
      "metadata": {
        "colab": {
          "base_uri": "https://localhost:8080/"
        },
        "id": "7JoZLYDjZ8D4",
        "outputId": "fd4cd7e3-a69a-452e-a38f-a708465e7734"
      },
      "outputs": [
        {
          "output_type": "stream",
          "name": "stderr",
          "text": [
            "<>:5: SyntaxWarning: 'float' object is not callable; perhaps you missed a comma?\n",
            "<>:7: SyntaxWarning: 'float' object is not callable; perhaps you missed a comma?\n",
            "<>:5: SyntaxWarning: 'float' object is not callable; perhaps you missed a comma?\n",
            "<>:7: SyntaxWarning: 'float' object is not callable; perhaps you missed a comma?\n",
            "<ipython-input-1-83310fcf6a06>:5: SyntaxWarning: 'float' object is not callable; perhaps you missed a comma?\n",
            "  return x*3 - 2.(x**2) - 5.\n",
            "<ipython-input-1-83310fcf6a06>:7: SyntaxWarning: 'float' object is not callable; perhaps you missed a comma?\n",
            "  return x*3 + 3.(x**2) - 1.\n"
          ]
        }
      ],
      "source": [
        "import numpy as np\n",
        "\n",
        "def f(x):\n",
        "    if ejercicio == 1:\n",
        "        return x*3 - 2.(x**2) - 5.\n",
        "    elif ejercicio == 2:\n",
        "        return x*3 + 3.(x**2) - 1.\n",
        "    elif ejercicio == 3:\n",
        "        return x - np.cos(x)\n",
        "    elif ejercicio == 4:\n",
        "        return x - 0.8 - 0.2*np.sin(x) \n",
        "\n",
        "def bisec(a,b,tol):\n",
        "    iter = 0\n",
        "    if np.abs(f(a)) <= tol:\n",
        "        return a,0,iter\n",
        "    elif np.abs(f(b)) <= tol:\n",
        "        return b,0,iter\n",
        "    elif f(a)*f(b) > 0.:\n",
        "        print(\"No hay raiz en el intervalo dado.\")\n",
        "    else:\n",
        "        p = (a + b) / 2.\n",
        "\n",
        "        while (iter <= maxiter and np.abs(f(p)) > tol):\n",
        "            iter = iter + 1 # iter += 1\n",
        "\n",
        "            if (f(a)*f(p) < 0):\n",
        "                b = p\n",
        "            else:\n",
        "                a = p\n",
        "            \n",
        "            p = (a + b) / 2.\n",
        "        \n",
        "        return p,np.abs(f(p)),iter\n",
        "    \n",
        "tol = 1e-4\n",
        "maxiter = 1000\n",
        "\n",
        "metodo = int(input(\"Elija el metodo a usar (1, 2 o 3): \"))\n",
        "\n",
        "if metodo == 1:\n",
        "    ejercicio = int(input(\"Elija el ejercicio a resolver (1, 2, 3 o 4):\"))\n",
        "\n",
        "    if ejercicio == 1:\n",
        "        a = 1\n",
        "        b = 4\n",
        "    elif ejercicio == 2:\n",
        "        a = -3\n",
        "        b = -2\n",
        "\n",
        "\n",
        "print(\"La raiz es: \",raiz)\n",
        "print(\"El error es: \",error)\n",
        "print(\"El numero de iteracines fue: \", iteraciones)"
      ]
    }
  ]
}